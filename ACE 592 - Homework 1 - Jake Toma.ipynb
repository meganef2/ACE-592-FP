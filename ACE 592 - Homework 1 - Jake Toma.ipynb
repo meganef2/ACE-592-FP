{
 "cells": [
  {
   "cell_type": "markdown",
   "id": "1e1e38e8",
   "metadata": {},
   "source": [
    "Jake Toma"
   ]
  },
  {
   "cell_type": "code",
   "execution_count": 1,
   "id": "8725052f",
   "metadata": {
    "scrolled": false
   },
   "outputs": [
    {
     "name": "stdout",
     "output_type": "stream",
     "text": [
      "Collecting package metadata (current_repodata.json): ...working... done\n",
      "Solving environment: ...working... done\n",
      "\n",
      "# All requested packages already installed.\n",
      "\n",
      "\n",
      "Note: you may need to restart the kernel to use updated packages.\n"
     ]
    }
   ],
   "source": [
    "conda install -c conda-forge emoji"
   ]
  },
  {
   "cell_type": "code",
   "execution_count": 2,
   "id": "8836494d",
   "metadata": {},
   "outputs": [],
   "source": [
    "import pandas as pd\n",
    "import json\n",
    "import matplotlib.pyplot as plt\n",
    "from sklearn.feature_extraction.text import CountVectorizer\n",
    "from nltk.sentiment.vader import SentimentIntensityAnalyzer\n",
    "import re\n",
    "import string\n",
    "from nltk.corpus import stopwords\n",
    "import string\n",
    "import emoji\n",
    "from datetime import timedelta"
   ]
  },
  {
   "cell_type": "markdown",
   "id": "607337da",
   "metadata": {},
   "source": [
    "# Opening the tweets"
   ]
  },
  {
   "cell_type": "code",
   "execution_count": 3,
   "id": "76613b79",
   "metadata": {},
   "outputs": [],
   "source": [
    "with open(\"/Users/Jake/Downloads/doge_sample_100k.json\") as f:\n",
    "    dogesample = json.load(f)"
   ]
  },
  {
   "cell_type": "code",
   "execution_count": 4,
   "id": "a719d6d9",
   "metadata": {},
   "outputs": [],
   "source": [
    "dfdc = pd.DataFrame()"
   ]
  },
  {
   "cell_type": "markdown",
   "id": "61949a67",
   "metadata": {},
   "source": [
    "# Putting them into a dataframe"
   ]
  },
  {
   "cell_type": "code",
   "execution_count": 135,
   "id": "50951df7",
   "metadata": {},
   "outputs": [],
   "source": [
    "dfdc['full_text'] = [x['text'] for x in dogesample]\n",
    "dfdc['author'] = [x['user']['screen_name'] for x in dogesample]\n",
    "dfdc['retweetornot'] = [x['retweeted'] for x in dogesample]\n",
    "dfdc['timestamp'] = [x['created_at'] for x in dogesample]\n",
    "dfdc['timestamp'] = pd.to_datetime(dfdc['timestamp']) - timedelta(hours=6)\n",
    "dfdc['dateoftweet'] = dfdc.timestamp.apply(lambda x:  str(x)[:10])\n",
    "dfdc['dateoftweet'] = pd.to_datetime(dfdc.dateoftweet)"
   ]
  },
  {
   "cell_type": "code",
   "execution_count": 170,
   "id": "ede7c5c0",
   "metadata": {
    "collapsed": true
   },
   "outputs": [
    {
     "data": {
      "text/html": [
       "<div>\n",
       "<style scoped>\n",
       "    .dataframe tbody tr th:only-of-type {\n",
       "        vertical-align: middle;\n",
       "    }\n",
       "\n",
       "    .dataframe tbody tr th {\n",
       "        vertical-align: top;\n",
       "    }\n",
       "\n",
       "    .dataframe thead th {\n",
       "        text-align: right;\n",
       "    }\n",
       "</style>\n",
       "<table border=\"1\" class=\"dataframe\">\n",
       "  <thead>\n",
       "    <tr style=\"text-align: right;\">\n",
       "      <th></th>\n",
       "      <th>full_text</th>\n",
       "      <th>author</th>\n",
       "      <th>retweetornot</th>\n",
       "      <th>timestamp</th>\n",
       "      <th>dateoftweet</th>\n",
       "      <th>text_nolink</th>\n",
       "      <th>text_lower</th>\n",
       "      <th>text_clean</th>\n",
       "      <th>words</th>\n",
       "      <th>sentiment</th>\n",
       "      <th>date</th>\n",
       "    </tr>\n",
       "  </thead>\n",
       "  <tbody>\n",
       "    <tr>\n",
       "      <th>0</th>\n",
       "      <td>hayallerim için dogecoin doge #doge #dogecoin #dogecointo1dollar  #dogearmy #elon  2</td>\n",
       "      <td>infectiousmoda</td>\n",
       "      <td>False</td>\n",
       "      <td>2021-02-04 03:11:34+00:00</td>\n",
       "      <td>2021-02-04</td>\n",
       "      <td>hayallerim için dogecoin doge        2</td>\n",
       "      <td>hayallerim için dogecoin doge        2</td>\n",
       "      <td>hayallerim için dogecoin doge        2</td>\n",
       "      <td>[2, hayallerim, için]</td>\n",
       "      <td>0.0000</td>\n",
       "      <td>2021-02-04</td>\n",
       "    </tr>\n",
       "    <tr>\n",
       "      <th>1</th>\n",
       "      <td>RT @4ngryDoge: Me watching my investment skyrocket when ever @elonmusk tweets about #dogecoin . . . https://t.co/3hYrQBIwI0</td>\n",
       "      <td>melodydabmore</td>\n",
       "      <td>False</td>\n",
       "      <td>2021-02-05 22:27:46+00:00</td>\n",
       "      <td>2021-02-05</td>\n",
       "      <td>RT : Me watching my investment skyrocket when ever  tweets about  . . .</td>\n",
       "      <td>rt : me watching my investment skyrocket when ever  tweets about  . . .</td>\n",
       "      <td>rt  me watching my investment skyrocket when ever  tweets about</td>\n",
       "      <td>[tweets, watching, ever, rt, investment, skyrocket]</td>\n",
       "      <td>0.0000</td>\n",
       "      <td>2021-02-05</td>\n",
       "    </tr>\n",
       "    <tr>\n",
       "      <th>2</th>\n",
       "      <td>The only reason behind the $doge pump is a trading discord with 260.000 members. They just announced they are pumpi… https://t.co/tGr0JyjukO</td>\n",
       "      <td>Mpi_Ceee</td>\n",
       "      <td>False</td>\n",
       "      <td>2021-02-05 01:56:14+00:00</td>\n",
       "      <td>2021-02-05</td>\n",
       "      <td>The only reason behind the $doge pump is a trading discord with 260.000 members. They just announced they are pumpi…</td>\n",
       "      <td>the only reason behind the $doge pump is a trading discord with 260.000 members. they just announced they are pumpi…</td>\n",
       "      <td>the only reason behind the doge pump is a trading discord with 260000 members they just announced they are pumpi…</td>\n",
       "      <td>[pump, behind, discord, trading, 260000, reason, announced, pumpi…, members]</td>\n",
       "      <td>-0.4019</td>\n",
       "      <td>2021-02-05</td>\n",
       "    </tr>\n",
       "    <tr>\n",
       "      <th>3</th>\n",
       "      <td>RT @closfranco: Those selling are going to regret it!!!!\\n#dogecoin \\n#DogecoinToTheMoon \\n#dogecointo1dollar \\n#dogearmy \\n#traval \\n#traval\\n#El…</td>\n",
       "      <td>Alexia88788466</td>\n",
       "      <td>False</td>\n",
       "      <td>2021-02-02 10:38:17+00:00</td>\n",
       "      <td>2021-02-02</td>\n",
       "      <td>RT : Those selling are going to regret it!!!!\\n \\n \\n \\n \\n \\n\\n…</td>\n",
       "      <td>rt : those selling are going to regret it!!!!     …</td>\n",
       "      <td>rt  those selling are going to regret it     …</td>\n",
       "      <td>[going, selling, …, rt, regret]</td>\n",
       "      <td>-0.4215</td>\n",
       "      <td>2021-02-02</td>\n",
       "    </tr>\n",
       "    <tr>\n",
       "      <th>4</th>\n",
       "      <td>@DOGEREVOLUTION1 @KingValhallaWSB #DogecoinToTheMoon #Dogecoin #dogecointoadollar</td>\n",
       "      <td>DOGECOINPAGE</td>\n",
       "      <td>False</td>\n",
       "      <td>2021-02-05 19:04:11+00:00</td>\n",
       "      <td>2021-02-05</td>\n",
       "      <td></td>\n",
       "      <td></td>\n",
       "      <td></td>\n",
       "      <td>[]</td>\n",
       "      <td>0.0000</td>\n",
       "      <td>2021-02-05</td>\n",
       "    </tr>\n",
       "    <tr>\n",
       "      <th>...</th>\n",
       "      <td>...</td>\n",
       "      <td>...</td>\n",
       "      <td>...</td>\n",
       "      <td>...</td>\n",
       "      <td>...</td>\n",
       "      <td>...</td>\n",
       "      <td>...</td>\n",
       "      <td>...</td>\n",
       "      <td>...</td>\n",
       "      <td>...</td>\n",
       "      <td>...</td>\n",
       "    </tr>\n",
       "    <tr>\n",
       "      <th>99995</th>\n",
       "      <td>RT @Dogecoinupdate: Told you to buy at the dip. 🤷🏽‍♂️ #Dogecoin</td>\n",
       "      <td>NashiusM</td>\n",
       "      <td>False</td>\n",
       "      <td>2021-02-06 19:11:11+00:00</td>\n",
       "      <td>2021-02-06</td>\n",
       "      <td>RT : Told you to buy at the dip. 🤷🏽‍♂️</td>\n",
       "      <td>rt : told you to buy at the dip. 🤷🏽‍♂️</td>\n",
       "      <td>rt  told you to buy at the dip 🤷🏽‍♂️</td>\n",
       "      <td>[🤷🏽‍♂️, buy, told, dip, rt]</td>\n",
       "      <td>0.0000</td>\n",
       "      <td>2021-02-06</td>\n",
       "    </tr>\n",
       "    <tr>\n",
       "      <th>99996</th>\n",
       "      <td>RT @LivingJiyu: Thank you @elonmusk! #Dogecoin is the crypto of the people! Invest now and hold!\\n\\n#DOGE #DogecoinToTheMoon #dogearmy #ElonD…</td>\n",
       "      <td>Dia_Sait</td>\n",
       "      <td>False</td>\n",
       "      <td>2021-02-04 04:53:26+00:00</td>\n",
       "      <td>2021-02-04</td>\n",
       "      <td>RT : Thank you !  is the crypto of the people! Invest now and hold!\\n\\n   …</td>\n",
       "      <td>rt : thank you !  is the crypto of the people! invest now and hold!   …</td>\n",
       "      <td>rt  thank you   is the crypto of the people invest now and hold   …</td>\n",
       "      <td>[hold, crypto, invest, thank, …, people, rt]</td>\n",
       "      <td>0.3612</td>\n",
       "      <td>2021-02-04</td>\n",
       "    </tr>\n",
       "    <tr>\n",
       "      <th>99997</th>\n",
       "      <td>RT @ItsDogeCoin: ATTENTION ALL #DOGEARMY MEMBERS, \\n\\nReply with your best #doge memes🚀\\n\\n👇👇👇let’s see ‘em 👇👇👇</td>\n",
       "      <td>dankoweedburn</td>\n",
       "      <td>False</td>\n",
       "      <td>2021-02-05 11:38:28+00:00</td>\n",
       "      <td>2021-02-05</td>\n",
       "      <td>RT : ATTENTION ALL  MEMBERS, \\n\\nReply with your best  memes🚀\\n\\n👇👇👇let’s see ‘em 👇👇👇</td>\n",
       "      <td>rt : attention all  members, reply with your best  memes🚀👇👇👇let’s see ‘em 👇👇👇</td>\n",
       "      <td>rt  attention all  members reply with your best  memes🚀👇👇👇let’s see ‘em 👇👇👇</td>\n",
       "      <td>[👇👇👇, reply, attention, best, see, memes🚀👇👇👇let’s, ‘em, rt, members]</td>\n",
       "      <td>0.6369</td>\n",
       "      <td>2021-02-05</td>\n",
       "    </tr>\n",
       "    <tr>\n",
       "      <th>99998</th>\n",
       "      <td>#dogecoin</td>\n",
       "      <td>jmork9</td>\n",
       "      <td>False</td>\n",
       "      <td>2021-02-07 17:39:10+00:00</td>\n",
       "      <td>2021-02-07</td>\n",
       "      <td></td>\n",
       "      <td></td>\n",
       "      <td></td>\n",
       "      <td>[]</td>\n",
       "      <td>0.0000</td>\n",
       "      <td>2021-02-07</td>\n",
       "    </tr>\n",
       "    <tr>\n",
       "      <th>99999</th>\n",
       "      <td>RT @ItsDogeCoin: #dogecoin hasn’t even started yet. All these pumps are nothing compared to what’s going to happen this year 💎</td>\n",
       "      <td>mclovintwiter89</td>\n",
       "      <td>False</td>\n",
       "      <td>2021-02-05 21:47:17+00:00</td>\n",
       "      <td>2021-02-05</td>\n",
       "      <td>RT :  hasn’t even started yet. All these pumps are nothing compared to what’s going to happen this year 💎</td>\n",
       "      <td>rt :  hasn’t even started yet. all these pumps are nothing compared to what’s going to happen this year 💎</td>\n",
       "      <td>rt   hasn’t even started yet all these pumps are nothing compared to what’s going to happen this year 💎</td>\n",
       "      <td>[going, year, 💎, what’s, pumps, yet, compared, started, nothing, hasn’t, happen, rt, even]</td>\n",
       "      <td>0.0000</td>\n",
       "      <td>2021-02-05</td>\n",
       "    </tr>\n",
       "  </tbody>\n",
       "</table>\n",
       "<p>100000 rows × 11 columns</p>\n",
       "</div>"
      ],
      "text/plain": [
       "                                                                                                                                                 full_text  \\\n",
       "0                                                                     hayallerim için dogecoin doge #doge #dogecoin #dogecointo1dollar  #dogearmy #elon  2   \n",
       "1                              RT @4ngryDoge: Me watching my investment skyrocket when ever @elonmusk tweets about #dogecoin . . . https://t.co/3hYrQBIwI0   \n",
       "2             The only reason behind the $doge pump is a trading discord with 260.000 members. They just announced they are pumpi… https://t.co/tGr0JyjukO   \n",
       "3      RT @closfranco: Those selling are going to regret it!!!!\\n#dogecoin \\n#DogecoinToTheMoon \\n#dogecointo1dollar \\n#dogearmy \\n#traval \\n#traval\\n#El…   \n",
       "4                                                                        @DOGEREVOLUTION1 @KingValhallaWSB #DogecoinToTheMoon #Dogecoin #dogecointoadollar   \n",
       "...                                                                                                                                                    ...   \n",
       "99995                                                                                      RT @Dogecoinupdate: Told you to buy at the dip. 🤷🏽‍♂️ #Dogecoin   \n",
       "99996       RT @LivingJiyu: Thank you @elonmusk! #Dogecoin is the crypto of the people! Invest now and hold!\\n\\n#DOGE #DogecoinToTheMoon #dogearmy #ElonD…   \n",
       "99997                                      RT @ItsDogeCoin: ATTENTION ALL #DOGEARMY MEMBERS, \\n\\nReply with your best #doge memes🚀\\n\\n👇👇👇let’s see ‘em 👇👇👇   \n",
       "99998                                                                                                                                            #dogecoin   \n",
       "99999                       RT @ItsDogeCoin: #dogecoin hasn’t even started yet. All these pumps are nothing compared to what’s going to happen this year 💎   \n",
       "\n",
       "                author  retweetornot                 timestamp dateoftweet  \\\n",
       "0       infectiousmoda         False 2021-02-04 03:11:34+00:00  2021-02-04   \n",
       "1        melodydabmore         False 2021-02-05 22:27:46+00:00  2021-02-05   \n",
       "2             Mpi_Ceee         False 2021-02-05 01:56:14+00:00  2021-02-05   \n",
       "3       Alexia88788466         False 2021-02-02 10:38:17+00:00  2021-02-02   \n",
       "4         DOGECOINPAGE         False 2021-02-05 19:04:11+00:00  2021-02-05   \n",
       "...                ...           ...                       ...         ...   \n",
       "99995         NashiusM         False 2021-02-06 19:11:11+00:00  2021-02-06   \n",
       "99996         Dia_Sait         False 2021-02-04 04:53:26+00:00  2021-02-04   \n",
       "99997    dankoweedburn         False 2021-02-05 11:38:28+00:00  2021-02-05   \n",
       "99998           jmork9         False 2021-02-07 17:39:10+00:00  2021-02-07   \n",
       "99999  mclovintwiter89         False 2021-02-05 21:47:17+00:00  2021-02-05   \n",
       "\n",
       "                                                                                                                 text_nolink  \\\n",
       "0                                                                                     hayallerim için dogecoin doge        2   \n",
       "1                                                   RT : Me watching my investment skyrocket when ever  tweets about  . . .    \n",
       "2      The only reason behind the $doge pump is a trading discord with 260.000 members. They just announced they are pumpi…    \n",
       "3                                                          RT : Those selling are going to regret it!!!!\\n \\n \\n \\n \\n \\n\\n…   \n",
       "4                                                                                                                              \n",
       "...                                                                                                                      ...   \n",
       "99995                                                                                RT : Told you to buy at the dip. 🤷🏽‍♂️    \n",
       "99996                                            RT : Thank you !  is the crypto of the people! Invest now and hold!\\n\\n   …   \n",
       "99997                                  RT : ATTENTION ALL  MEMBERS, \\n\\nReply with your best  memes🚀\\n\\n👇👇👇let’s see ‘em 👇👇👇   \n",
       "99998                                                                                                                          \n",
       "99999              RT :  hasn’t even started yet. All these pumps are nothing compared to what’s going to happen this year 💎   \n",
       "\n",
       "                                                                                                                  text_lower  \\\n",
       "0                                                                                     hayallerim için dogecoin doge        2   \n",
       "1                                                   rt : me watching my investment skyrocket when ever  tweets about  . . .    \n",
       "2      the only reason behind the $doge pump is a trading discord with 260.000 members. they just announced they are pumpi…    \n",
       "3                                                                        rt : those selling are going to regret it!!!!     …   \n",
       "4                                                                                                                              \n",
       "...                                                                                                                      ...   \n",
       "99995                                                                                rt : told you to buy at the dip. 🤷🏽‍♂️    \n",
       "99996                                                rt : thank you !  is the crypto of the people! invest now and hold!   …   \n",
       "99997                                          rt : attention all  members, reply with your best  memes🚀👇👇👇let’s see ‘em 👇👇👇   \n",
       "99998                                                                                                                          \n",
       "99999              rt :  hasn’t even started yet. all these pumps are nothing compared to what’s going to happen this year 💎   \n",
       "\n",
       "                                                                                                               text_clean  \\\n",
       "0                                                                                  hayallerim için dogecoin doge        2   \n",
       "1                                                    rt  me watching my investment skyrocket when ever  tweets about        \n",
       "2      the only reason behind the doge pump is a trading discord with 260000 members they just announced they are pumpi…    \n",
       "3                                                                          rt  those selling are going to regret it     …   \n",
       "4                                                                                                                           \n",
       "...                                                                                                                   ...   \n",
       "99995                                                                               rt  told you to buy at the dip 🤷🏽‍♂️    \n",
       "99996                                                 rt  thank you   is the crypto of the people invest now and hold   …   \n",
       "99997                                         rt  attention all  members reply with your best  memes🚀👇👇👇let’s see ‘em 👇👇👇   \n",
       "99998                                                                                                                       \n",
       "99999             rt   hasn’t even started yet all these pumps are nothing compared to what’s going to happen this year 💎   \n",
       "\n",
       "                                                                                            words  \\\n",
       "0                                                                           [2, hayallerim, için]   \n",
       "1                                             [tweets, watching, ever, rt, investment, skyrocket]   \n",
       "2                    [pump, behind, discord, trading, 260000, reason, announced, pumpi…, members]   \n",
       "3                                                                 [going, selling, …, rt, regret]   \n",
       "4                                                                                              []   \n",
       "...                                                                                           ...   \n",
       "99995                                                                 [🤷🏽‍♂️, buy, told, dip, rt]   \n",
       "99996                                                [hold, crypto, invest, thank, …, people, rt]   \n",
       "99997                        [👇👇👇, reply, attention, best, see, memes🚀👇👇👇let’s, ‘em, rt, members]   \n",
       "99998                                                                                          []   \n",
       "99999  [going, year, 💎, what’s, pumps, yet, compared, started, nothing, hasn’t, happen, rt, even]   \n",
       "\n",
       "       sentiment       date  \n",
       "0         0.0000 2021-02-04  \n",
       "1         0.0000 2021-02-05  \n",
       "2        -0.4019 2021-02-05  \n",
       "3        -0.4215 2021-02-02  \n",
       "4         0.0000 2021-02-05  \n",
       "...          ...        ...  \n",
       "99995     0.0000 2021-02-06  \n",
       "99996     0.3612 2021-02-04  \n",
       "99997     0.6369 2021-02-05  \n",
       "99998     0.0000 2021-02-07  \n",
       "99999     0.0000 2021-02-05  \n",
       "\n",
       "[100000 rows x 11 columns]"
      ]
     },
     "execution_count": 170,
     "metadata": {},
     "output_type": "execute_result"
    }
   ],
   "source": [
    "dfdc"
   ]
  },
  {
   "cell_type": "markdown",
   "id": "5fdb3640",
   "metadata": {},
   "source": [
    "# Creating clean text while making changes to full text"
   ]
  },
  {
   "cell_type": "code",
   "execution_count": 6,
   "id": "ab83b72f",
   "metadata": {},
   "outputs": [],
   "source": [
    "import re"
   ]
  },
  {
   "cell_type": "code",
   "execution_count": 7,
   "id": "42cd8134",
   "metadata": {},
   "outputs": [],
   "source": [
    "find_links = re.compile(r'https\\S+')\n",
    "find_users = re.compile(r'@\\w+')\n",
    "find_hashtags = re.compile(r'#\\w+')\n",
    "\n",
    "dfdc['text_nolink']=[find_links.sub(\"\",x) for x in dfdc['full_text']]\n",
    "dfdc['text_nolink']=[find_users.sub(\"\",x) for x in dfdc['text_nolink']]\n",
    "dfdc['text_nolink']=[find_hashtags.sub(\"\",x) for x in dfdc['text_nolink']]\n",
    "\n",
    "import string\n",
    "string.punctuation\n",
    "\n",
    "remv_punc = str.maketrans('','',string.punctuation + '\"' +\"'\"+'\"')\n",
    "dfdc['text_lower'] = dfdc['text_nolink'].str.lower().str.replace(\"\\n\",\"\")\n",
    "dfdc['text_clean'] = dfdc.text_lower.str.translate(remv_punc)"
   ]
  },
  {
   "cell_type": "markdown",
   "id": "8c133c6a",
   "metadata": {},
   "source": [
    "# Reporting top 10 common words, top 5 mentioned accounts, top 5 most rt'd, top 5 # besides 'doge' and 'dogecoin'"
   ]
  },
  {
   "cell_type": "markdown",
   "id": "12577c5a",
   "metadata": {},
   "source": [
    "### Split into words"
   ]
  },
  {
   "cell_type": "code",
   "execution_count": 8,
   "id": "1c3d3553",
   "metadata": {},
   "outputs": [],
   "source": [
    "from nltk.corpus import stopwords"
   ]
  },
  {
   "cell_type": "code",
   "execution_count": 9,
   "id": "d83b7a10",
   "metadata": {},
   "outputs": [],
   "source": [
    "sw_list = stopwords.words('english') + ['amp','',\" \",\"doge\",\"dogecoin\",\"coin\"]"
   ]
  },
  {
   "cell_type": "code",
   "execution_count": 10,
   "id": "2dbb320f",
   "metadata": {},
   "outputs": [],
   "source": [
    "dfdc['words'] = [x.split(\" \") for x in dfdc['text_clean']]"
   ]
  },
  {
   "cell_type": "markdown",
   "id": "ac76aab0",
   "metadata": {},
   "source": [
    "### Taking out stop words"
   ]
  },
  {
   "cell_type": "code",
   "execution_count": 11,
   "id": "1c80c622",
   "metadata": {},
   "outputs": [],
   "source": [
    "dfdc['words'] = [list(set(x) - set(sw_list)) for x in dfdc['words']]"
   ]
  },
  {
   "cell_type": "code",
   "execution_count": 12,
   "id": "8a7bbe71",
   "metadata": {
    "collapsed": true
   },
   "outputs": [
    {
     "data": {
      "text/html": [
       "<div>\n",
       "<style scoped>\n",
       "    .dataframe tbody tr th:only-of-type {\n",
       "        vertical-align: middle;\n",
       "    }\n",
       "\n",
       "    .dataframe tbody tr th {\n",
       "        vertical-align: top;\n",
       "    }\n",
       "\n",
       "    .dataframe thead th {\n",
       "        text-align: right;\n",
       "    }\n",
       "</style>\n",
       "<table border=\"1\" class=\"dataframe\">\n",
       "  <thead>\n",
       "    <tr style=\"text-align: right;\">\n",
       "      <th></th>\n",
       "      <th>full_text</th>\n",
       "      <th>author</th>\n",
       "      <th>retweetornot</th>\n",
       "      <th>timestamp</th>\n",
       "      <th>dateoftweet</th>\n",
       "      <th>text_nolink</th>\n",
       "      <th>text_lower</th>\n",
       "      <th>text_clean</th>\n",
       "      <th>words</th>\n",
       "    </tr>\n",
       "  </thead>\n",
       "  <tbody>\n",
       "    <tr>\n",
       "      <th>0</th>\n",
       "      <td>hayallerim için dogecoin doge #doge #dogecoin ...</td>\n",
       "      <td>infectiousmoda</td>\n",
       "      <td>False</td>\n",
       "      <td>2021-02-04 03:11:34+00:00</td>\n",
       "      <td>2021-02-04</td>\n",
       "      <td>hayallerim için dogecoin doge        2</td>\n",
       "      <td>hayallerim için dogecoin doge        2</td>\n",
       "      <td>hayallerim için dogecoin doge        2</td>\n",
       "      <td>[2, hayallerim, için]</td>\n",
       "    </tr>\n",
       "    <tr>\n",
       "      <th>1</th>\n",
       "      <td>RT @4ngryDoge: Me watching my investment skyro...</td>\n",
       "      <td>melodydabmore</td>\n",
       "      <td>False</td>\n",
       "      <td>2021-02-05 22:27:46+00:00</td>\n",
       "      <td>2021-02-05</td>\n",
       "      <td>RT : Me watching my investment skyrocket when ...</td>\n",
       "      <td>rt : me watching my investment skyrocket when ...</td>\n",
       "      <td>rt  me watching my investment skyrocket when e...</td>\n",
       "      <td>[tweets, watching, ever, rt, investment, skyro...</td>\n",
       "    </tr>\n",
       "    <tr>\n",
       "      <th>2</th>\n",
       "      <td>The only reason behind the $doge pump is a tra...</td>\n",
       "      <td>Mpi_Ceee</td>\n",
       "      <td>False</td>\n",
       "      <td>2021-02-05 01:56:14+00:00</td>\n",
       "      <td>2021-02-05</td>\n",
       "      <td>The only reason behind the $doge pump is a tra...</td>\n",
       "      <td>the only reason behind the $doge pump is a tra...</td>\n",
       "      <td>the only reason behind the doge pump is a trad...</td>\n",
       "      <td>[pump, behind, discord, trading, 260000, reaso...</td>\n",
       "    </tr>\n",
       "    <tr>\n",
       "      <th>3</th>\n",
       "      <td>RT @closfranco: Those selling are going to reg...</td>\n",
       "      <td>Alexia88788466</td>\n",
       "      <td>False</td>\n",
       "      <td>2021-02-02 10:38:17+00:00</td>\n",
       "      <td>2021-02-02</td>\n",
       "      <td>RT : Those selling are going to regret it!!!!\\...</td>\n",
       "      <td>rt : those selling are going to regret it!!!! ...</td>\n",
       "      <td>rt  those selling are going to regret it     …</td>\n",
       "      <td>[going, selling, …, rt, regret]</td>\n",
       "    </tr>\n",
       "    <tr>\n",
       "      <th>4</th>\n",
       "      <td>@DOGEREVOLUTION1 @KingValhallaWSB #DogecoinToT...</td>\n",
       "      <td>DOGECOINPAGE</td>\n",
       "      <td>False</td>\n",
       "      <td>2021-02-05 19:04:11+00:00</td>\n",
       "      <td>2021-02-05</td>\n",
       "      <td></td>\n",
       "      <td></td>\n",
       "      <td></td>\n",
       "      <td>[]</td>\n",
       "    </tr>\n",
       "    <tr>\n",
       "      <th>...</th>\n",
       "      <td>...</td>\n",
       "      <td>...</td>\n",
       "      <td>...</td>\n",
       "      <td>...</td>\n",
       "      <td>...</td>\n",
       "      <td>...</td>\n",
       "      <td>...</td>\n",
       "      <td>...</td>\n",
       "      <td>...</td>\n",
       "    </tr>\n",
       "    <tr>\n",
       "      <th>99995</th>\n",
       "      <td>RT @Dogecoinupdate: Told you to buy at the dip...</td>\n",
       "      <td>NashiusM</td>\n",
       "      <td>False</td>\n",
       "      <td>2021-02-06 19:11:11+00:00</td>\n",
       "      <td>2021-02-06</td>\n",
       "      <td>RT : Told you to buy at the dip. 🤷🏽‍♂️</td>\n",
       "      <td>rt : told you to buy at the dip. 🤷🏽‍♂️</td>\n",
       "      <td>rt  told you to buy at the dip 🤷🏽‍♂️</td>\n",
       "      <td>[🤷🏽‍♂️, buy, told, dip, rt]</td>\n",
       "    </tr>\n",
       "    <tr>\n",
       "      <th>99996</th>\n",
       "      <td>RT @LivingJiyu: Thank you @elonmusk! #Dogecoin...</td>\n",
       "      <td>Dia_Sait</td>\n",
       "      <td>False</td>\n",
       "      <td>2021-02-04 04:53:26+00:00</td>\n",
       "      <td>2021-02-04</td>\n",
       "      <td>RT : Thank you !  is the crypto of the people!...</td>\n",
       "      <td>rt : thank you !  is the crypto of the people!...</td>\n",
       "      <td>rt  thank you   is the crypto of the people in...</td>\n",
       "      <td>[hold, crypto, invest, thank, …, people, rt]</td>\n",
       "    </tr>\n",
       "    <tr>\n",
       "      <th>99997</th>\n",
       "      <td>RT @ItsDogeCoin: ATTENTION ALL #DOGEARMY MEMBE...</td>\n",
       "      <td>dankoweedburn</td>\n",
       "      <td>False</td>\n",
       "      <td>2021-02-05 11:38:28+00:00</td>\n",
       "      <td>2021-02-05</td>\n",
       "      <td>RT : ATTENTION ALL  MEMBERS, \\n\\nReply with yo...</td>\n",
       "      <td>rt : attention all  members, reply with your b...</td>\n",
       "      <td>rt  attention all  members reply with your bes...</td>\n",
       "      <td>[👇👇👇, reply, attention, best, see, memes🚀👇👇👇le...</td>\n",
       "    </tr>\n",
       "    <tr>\n",
       "      <th>99998</th>\n",
       "      <td>#dogecoin</td>\n",
       "      <td>jmork9</td>\n",
       "      <td>False</td>\n",
       "      <td>2021-02-07 17:39:10+00:00</td>\n",
       "      <td>2021-02-07</td>\n",
       "      <td></td>\n",
       "      <td></td>\n",
       "      <td></td>\n",
       "      <td>[]</td>\n",
       "    </tr>\n",
       "    <tr>\n",
       "      <th>99999</th>\n",
       "      <td>RT @ItsDogeCoin: #dogecoin hasn’t even started...</td>\n",
       "      <td>mclovintwiter89</td>\n",
       "      <td>False</td>\n",
       "      <td>2021-02-05 21:47:17+00:00</td>\n",
       "      <td>2021-02-05</td>\n",
       "      <td>RT :  hasn’t even started yet. All these pumps...</td>\n",
       "      <td>rt :  hasn’t even started yet. all these pumps...</td>\n",
       "      <td>rt   hasn’t even started yet all these pumps a...</td>\n",
       "      <td>[going, year, 💎, what’s, pumps, yet, compared,...</td>\n",
       "    </tr>\n",
       "  </tbody>\n",
       "</table>\n",
       "<p>100000 rows × 9 columns</p>\n",
       "</div>"
      ],
      "text/plain": [
       "                                               full_text           author  \\\n",
       "0      hayallerim için dogecoin doge #doge #dogecoin ...   infectiousmoda   \n",
       "1      RT @4ngryDoge: Me watching my investment skyro...    melodydabmore   \n",
       "2      The only reason behind the $doge pump is a tra...         Mpi_Ceee   \n",
       "3      RT @closfranco: Those selling are going to reg...   Alexia88788466   \n",
       "4      @DOGEREVOLUTION1 @KingValhallaWSB #DogecoinToT...     DOGECOINPAGE   \n",
       "...                                                  ...              ...   \n",
       "99995  RT @Dogecoinupdate: Told you to buy at the dip...         NashiusM   \n",
       "99996  RT @LivingJiyu: Thank you @elonmusk! #Dogecoin...         Dia_Sait   \n",
       "99997  RT @ItsDogeCoin: ATTENTION ALL #DOGEARMY MEMBE...    dankoweedburn   \n",
       "99998                                          #dogecoin           jmork9   \n",
       "99999  RT @ItsDogeCoin: #dogecoin hasn’t even started...  mclovintwiter89   \n",
       "\n",
       "       retweetornot                 timestamp dateoftweet  \\\n",
       "0             False 2021-02-04 03:11:34+00:00  2021-02-04   \n",
       "1             False 2021-02-05 22:27:46+00:00  2021-02-05   \n",
       "2             False 2021-02-05 01:56:14+00:00  2021-02-05   \n",
       "3             False 2021-02-02 10:38:17+00:00  2021-02-02   \n",
       "4             False 2021-02-05 19:04:11+00:00  2021-02-05   \n",
       "...             ...                       ...         ...   \n",
       "99995         False 2021-02-06 19:11:11+00:00  2021-02-06   \n",
       "99996         False 2021-02-04 04:53:26+00:00  2021-02-04   \n",
       "99997         False 2021-02-05 11:38:28+00:00  2021-02-05   \n",
       "99998         False 2021-02-07 17:39:10+00:00  2021-02-07   \n",
       "99999         False 2021-02-05 21:47:17+00:00  2021-02-05   \n",
       "\n",
       "                                             text_nolink  \\\n",
       "0                 hayallerim için dogecoin doge        2   \n",
       "1      RT : Me watching my investment skyrocket when ...   \n",
       "2      The only reason behind the $doge pump is a tra...   \n",
       "3      RT : Those selling are going to regret it!!!!\\...   \n",
       "4                                                          \n",
       "...                                                  ...   \n",
       "99995            RT : Told you to buy at the dip. 🤷🏽‍♂️    \n",
       "99996  RT : Thank you !  is the crypto of the people!...   \n",
       "99997  RT : ATTENTION ALL  MEMBERS, \\n\\nReply with yo...   \n",
       "99998                                                      \n",
       "99999  RT :  hasn’t even started yet. All these pumps...   \n",
       "\n",
       "                                              text_lower  \\\n",
       "0                 hayallerim için dogecoin doge        2   \n",
       "1      rt : me watching my investment skyrocket when ...   \n",
       "2      the only reason behind the $doge pump is a tra...   \n",
       "3      rt : those selling are going to regret it!!!! ...   \n",
       "4                                                          \n",
       "...                                                  ...   \n",
       "99995            rt : told you to buy at the dip. 🤷🏽‍♂️    \n",
       "99996  rt : thank you !  is the crypto of the people!...   \n",
       "99997  rt : attention all  members, reply with your b...   \n",
       "99998                                                      \n",
       "99999  rt :  hasn’t even started yet. all these pumps...   \n",
       "\n",
       "                                              text_clean  \\\n",
       "0                 hayallerim için dogecoin doge        2   \n",
       "1      rt  me watching my investment skyrocket when e...   \n",
       "2      the only reason behind the doge pump is a trad...   \n",
       "3         rt  those selling are going to regret it     …   \n",
       "4                                                          \n",
       "...                                                  ...   \n",
       "99995              rt  told you to buy at the dip 🤷🏽‍♂️    \n",
       "99996  rt  thank you   is the crypto of the people in...   \n",
       "99997  rt  attention all  members reply with your bes...   \n",
       "99998                                                      \n",
       "99999  rt   hasn’t even started yet all these pumps a...   \n",
       "\n",
       "                                                   words  \n",
       "0                                  [2, hayallerim, için]  \n",
       "1      [tweets, watching, ever, rt, investment, skyro...  \n",
       "2      [pump, behind, discord, trading, 260000, reaso...  \n",
       "3                        [going, selling, …, rt, regret]  \n",
       "4                                                     []  \n",
       "...                                                  ...  \n",
       "99995                        [🤷🏽‍♂️, buy, told, dip, rt]  \n",
       "99996       [hold, crypto, invest, thank, …, people, rt]  \n",
       "99997  [👇👇👇, reply, attention, best, see, memes🚀👇👇👇le...  \n",
       "99998                                                 []  \n",
       "99999  [going, year, 💎, what’s, pumps, yet, compared,...  \n",
       "\n",
       "[100000 rows x 9 columns]"
      ]
     },
     "execution_count": 12,
     "metadata": {},
     "output_type": "execute_result"
    }
   ],
   "source": [
    "dfdc"
   ]
  },
  {
   "cell_type": "markdown",
   "id": "81f29d5a",
   "metadata": {},
   "source": [
    "### Getting word counts"
   ]
  },
  {
   "cell_type": "code",
   "execution_count": 13,
   "id": "932117de",
   "metadata": {},
   "outputs": [],
   "source": [
    "from sklearn.feature_extraction.text import CountVectorizer"
   ]
  },
  {
   "cell_type": "code",
   "execution_count": 14,
   "id": "f5168790",
   "metadata": {},
   "outputs": [],
   "source": [
    "vct = CountVectorizer(stop_words='english')"
   ]
  },
  {
   "cell_type": "code",
   "execution_count": 15,
   "id": "e36e29c0",
   "metadata": {},
   "outputs": [],
   "source": [
    "X = vct.fit_transform(dfdc['full_text'])"
   ]
  },
  {
   "cell_type": "code",
   "execution_count": 16,
   "id": "54f809a6",
   "metadata": {},
   "outputs": [
    {
     "data": {
      "text/plain": [
       "<100000x64812 sparse matrix of type '<class 'numpy.int64'>'\n",
       "\twith 936285 stored elements in Compressed Sparse Row format>"
      ]
     },
     "execution_count": 16,
     "metadata": {},
     "output_type": "execute_result"
    }
   ],
   "source": [
    "X"
   ]
  },
  {
   "cell_type": "code",
   "execution_count": 17,
   "id": "6fae4b80",
   "metadata": {},
   "outputs": [],
   "source": [
    "word_counts = pd.DataFrame(X.sum(axis=0))"
   ]
  },
  {
   "cell_type": "code",
   "execution_count": 18,
   "id": "922ed882",
   "metadata": {},
   "outputs": [],
   "source": [
    "word_counts.columns = vct.get_feature_names()\n",
    "word_counts = word_counts.T"
   ]
  },
  {
   "cell_type": "code",
   "execution_count": 19,
   "id": "07bab216",
   "metadata": {},
   "outputs": [
    {
     "data": {
      "text/plain": [
       "rt          75750\n",
       "dogecoin    70904\n",
       "doge        48062\n",
       "https       35101\n",
       "dogearmy    24132\n",
       "Name: 0, dtype: int64"
      ]
     },
     "execution_count": 19,
     "metadata": {},
     "output_type": "execute_result"
    }
   ],
   "source": [
    "word_counts = word_counts[0].sort_values(ascending=False)\n",
    "word_counts.head()"
   ]
  },
  {
   "cell_type": "markdown",
   "id": "7c680716",
   "metadata": {},
   "source": [
    "### Top 10 words"
   ]
  },
  {
   "cell_type": "code",
   "execution_count": 20,
   "id": "e0f3feee",
   "metadata": {},
   "outputs": [],
   "source": [
    "words =  list(word_counts.index)\n",
    "\n",
    "words.remove(\"amp\")\n",
    "words.remove(\"rt\")\n",
    "words.remove(\"retweet\")\n",
    "words.remove(\"doge\")\n",
    "words.remove(\"coin\")\n",
    "words.remove(\"dogecoin\")\n",
    "words.remove(\"https\")\n",
    "\n",
    "word_counts = word_counts.loc[words]"
   ]
  },
  {
   "cell_type": "code",
   "execution_count": 21,
   "id": "bca8707c",
   "metadata": {},
   "outputs": [
    {
     "data": {
      "text/plain": [
       "dogearmy             24132\n",
       "dogecoinrise         21621\n",
       "elonmusk             11733\n",
       "dogecointothemoon     9709\n",
       "buy                   8082\n",
       "let                   8046\n",
       "dogecoinarmy          6316\n",
       "10                    5463\n",
       "hold                  4976\n",
       "just                  4721\n",
       "Name: 0, dtype: int64"
      ]
     },
     "execution_count": 21,
     "metadata": {},
     "output_type": "execute_result"
    }
   ],
   "source": [
    "word_counts.head(10)"
   ]
  },
  {
   "cell_type": "markdown",
   "id": "e32d984d",
   "metadata": {},
   "source": [
    "### Top 5 Mentions"
   ]
  },
  {
   "cell_type": "code",
   "execution_count": 22,
   "id": "93b5b7c5",
   "metadata": {},
   "outputs": [],
   "source": [
    "import regex"
   ]
  },
  {
   "cell_type": "code",
   "execution_count": 23,
   "id": "4e95b75c",
   "metadata": {},
   "outputs": [
    {
     "data": {
      "text/plain": [
       "@DogecoinRise    15194\n",
       "@elonmusk        10071\n",
       "@dogethepup       1670\n",
       "@Dogecoinrich     1452\n",
       "@itsALLrisky      1448\n",
       "dtype: int64"
      ]
     },
     "execution_count": 23,
     "metadata": {},
     "output_type": "execute_result"
    }
   ],
   "source": [
    "mention_lists = [find_users.findall(x) for x in dfdc['full_text'] if len(\n",
    "find_users.findall(x))>0 ]\n",
    "all_mentions = pd.Series(mention_lists).sum()\n",
    "pd.Series(all_mentions).value_counts().head()"
   ]
  },
  {
   "cell_type": "markdown",
   "id": "dd955b34",
   "metadata": {},
   "source": [
    "### Top 5 RT's"
   ]
  },
  {
   "cell_type": "code",
   "execution_count": 24,
   "id": "0a043c2b",
   "metadata": {},
   "outputs": [],
   "source": [
    "toprt_5 = dfdc.sort_values(\"retweetornot\",ascending=False).head()[['timestamp','full_text','retweetornot']]\n",
    "toprt_5.columns = ['Time Stamp',\"Tweet\",'Retweets']"
   ]
  },
  {
   "cell_type": "code",
   "execution_count": 25,
   "id": "f63e9508",
   "metadata": {},
   "outputs": [],
   "source": [
    "pd.set_option('display.max_colwidth', None)"
   ]
  },
  {
   "cell_type": "code",
   "execution_count": 26,
   "id": "56bede9b",
   "metadata": {},
   "outputs": [
    {
     "data": {
      "text/html": [
       "<div>\n",
       "<style scoped>\n",
       "    .dataframe tbody tr th:only-of-type {\n",
       "        vertical-align: middle;\n",
       "    }\n",
       "\n",
       "    .dataframe tbody tr th {\n",
       "        vertical-align: top;\n",
       "    }\n",
       "\n",
       "    .dataframe thead th {\n",
       "        text-align: right;\n",
       "    }\n",
       "</style>\n",
       "<table border=\"1\" class=\"dataframe\">\n",
       "  <thead>\n",
       "    <tr style=\"text-align: right;\">\n",
       "      <th></th>\n",
       "      <th>Tweet</th>\n",
       "      <th>Time Stamp</th>\n",
       "      <th>Retweets</th>\n",
       "    </tr>\n",
       "  </thead>\n",
       "  <tbody>\n",
       "    <tr>\n",
       "      <th>0</th>\n",
       "      <td>hayallerim için dogecoin doge #doge #dogecoin #dogecointo1dollar  #dogearmy #elon  2</td>\n",
       "      <td>2021-02-04 03:11:34+00:00</td>\n",
       "      <td>False</td>\n",
       "    </tr>\n",
       "    <tr>\n",
       "      <th>66650</th>\n",
       "      <td>RT @Tinaluboo: #dogecoin #doge #DogeToAdollar @elonmusk  I bought more on the dip from those who just sold at 0.054.. thanks.  Hoping the p…</td>\n",
       "      <td>2021-02-04 18:11:46+00:00</td>\n",
       "      <td>False</td>\n",
       "    </tr>\n",
       "    <tr>\n",
       "      <th>66672</th>\n",
       "      <td>RT @genesimmons: @elonmusk ..@dogecoin</td>\n",
       "      <td>2021-02-06 15:45:44+00:00</td>\n",
       "      <td>False</td>\n",
       "    </tr>\n",
       "    <tr>\n",
       "      <th>66671</th>\n",
       "      <td>#Dogecoin</td>\n",
       "      <td>2021-02-03 21:02:50+00:00</td>\n",
       "      <td>False</td>\n",
       "    </tr>\n",
       "    <tr>\n",
       "      <th>66670</th>\n",
       "      <td>The only reason behind the $doge pump is a trading discord with 260.000 members. They just announced they are pumpi… https://t.co/6NtcRvDdcx</td>\n",
       "      <td>2021-02-05 02:44:42+00:00</td>\n",
       "      <td>False</td>\n",
       "    </tr>\n",
       "  </tbody>\n",
       "</table>\n",
       "</div>"
      ],
      "text/plain": [
       "                                                                                                                                              Tweet  \\\n",
       "0                                                              hayallerim için dogecoin doge #doge #dogecoin #dogecointo1dollar  #dogearmy #elon  2   \n",
       "66650  RT @Tinaluboo: #dogecoin #doge #DogeToAdollar @elonmusk  I bought more on the dip from those who just sold at 0.054.. thanks.  Hoping the p…   \n",
       "66672                                                                                                        RT @genesimmons: @elonmusk ..@dogecoin   \n",
       "66671                                                                                                                                     #Dogecoin   \n",
       "66670  The only reason behind the $doge pump is a trading discord with 260.000 members. They just announced they are pumpi… https://t.co/6NtcRvDdcx   \n",
       "\n",
       "                     Time Stamp  Retweets  \n",
       "0     2021-02-04 03:11:34+00:00     False  \n",
       "66650 2021-02-04 18:11:46+00:00     False  \n",
       "66672 2021-02-06 15:45:44+00:00     False  \n",
       "66671 2021-02-03 21:02:50+00:00     False  \n",
       "66670 2021-02-05 02:44:42+00:00     False  "
      ]
     },
     "execution_count": 26,
     "metadata": {},
     "output_type": "execute_result"
    }
   ],
   "source": [
    "toprt_5[['Tweet','Time Stamp',\"Retweets\"]]"
   ]
  },
  {
   "cell_type": "markdown",
   "id": "d5427b61",
   "metadata": {},
   "source": [
    "### Top 5 hashtags"
   ]
  },
  {
   "cell_type": "code",
   "execution_count": 27,
   "id": "dae965ff",
   "metadata": {},
   "outputs": [],
   "source": [
    "pattern = '(?<=^|(?<=[^a-zA-Z0-9-_\\.]))#([A-Za-z]+[A-Za-z0-9-_]+)'\n",
    "vct = CountVectorizer(stop_words='english',token_pattern=pattern)\n",
    "X = vct.fit_transform(list(dfdc['full_text']))\n"
   ]
  },
  {
   "cell_type": "code",
   "execution_count": 28,
   "id": "e3fc8449",
   "metadata": {},
   "outputs": [],
   "source": [
    "word_counts = pd.DataFrame(X.sum(axis=0))\n",
    "word_counts.columns = vct.get_feature_names()\n",
    "word_counts = word_counts.T\n",
    "word_counts = word_counts[0].sort_values(ascending=False)\n"
   ]
  },
  {
   "cell_type": "code",
   "execution_count": 38,
   "id": "12d4adf3",
   "metadata": {},
   "outputs": [],
   "source": [
    "word_counts = word_counts.drop(\"doge\")\n",
    "word_counts = word_counts.drop(\"dogecoin\")"
   ]
  },
  {
   "cell_type": "code",
   "execution_count": 39,
   "id": "2ed8c9e2",
   "metadata": {},
   "outputs": [
    {
     "data": {
      "text/plain": [
       "dogearmy             24057\n",
       "dogecointothemoon     9701\n",
       "dogecoinrise          6395\n",
       "dogecoinarmy          6257\n",
       "dogetoadollar         4089\n",
       "Name: 0, dtype: int64"
      ]
     },
     "execution_count": 39,
     "metadata": {},
     "output_type": "execute_result"
    }
   ],
   "source": [
    "word_counts.head(5)"
   ]
  },
  {
   "cell_type": "markdown",
   "id": "63a1eaad",
   "metadata": {},
   "source": [
    "# Extra credit: top 5 most common emojis"
   ]
  },
  {
   "cell_type": "code",
   "execution_count": null,
   "id": "994eef0b",
   "metadata": {},
   "outputs": [],
   "source": []
  },
  {
   "cell_type": "markdown",
   "id": "ae85c84a",
   "metadata": {},
   "source": [
    "# 3. Loading in Elon's tweets"
   ]
  },
  {
   "cell_type": "code",
   "execution_count": 40,
   "id": "c892b2e6",
   "metadata": {},
   "outputs": [],
   "source": [
    "with open(\"/Users/Jake/Downloads/elon_tweets.json\") as f:\n",
    "    elontweets = json.load(f)"
   ]
  },
  {
   "cell_type": "markdown",
   "id": "725407f2",
   "metadata": {},
   "source": [
    "### Finding minute volume of Elon's tweets and plot them with dogecoin tweets"
   ]
  },
  {
   "cell_type": "code",
   "execution_count": 125,
   "id": "736fb959",
   "metadata": {},
   "outputs": [],
   "source": [
    "dfet = pd.DataFrame(elontweets)"
   ]
  },
  {
   "cell_type": "code",
   "execution_count": 126,
   "id": "9eae8fb1",
   "metadata": {},
   "outputs": [],
   "source": [
    "ext_text = []\n",
    "\n",
    "for tweet in elontweets:\n",
    "    if \"retweeted_status\" in list(tweet.keys()): \n",
    "        if \"extended_tweet\" in list(tweet['retweeted_status'].keys()): \n",
    "            ext_text += [tweet['retweeted_status']['extended_tweet']['full_text']]\n",
    "        else:\n",
    "            ext_text += [tweet['retweeted_status']['text']]\n",
    "    elif \"extended_tweet\" in list(tweet.keys()): \n",
    "        ext_text += [tweet['extended_tweet']['full_text']]\n",
    "    else:\n",
    "        ext_text += [tweet['full_text']] \n",
    "dfet['full_text'] = ext_text\n"
   ]
  },
  {
   "cell_type": "code",
   "execution_count": 127,
   "id": "10381b77",
   "metadata": {},
   "outputs": [],
   "source": [
    "dfet['username'] = [x['user']['screen_name'] for x in elontweets]\n",
    "\n",
    "dfet['retweet_status'] = [x['retweeted'] for x in elontweets]\n",
    "\n",
    "dfet['time_stamp'] = [x['created_at'] for x in elontweets]\n",
    "\n",
    "dfet['time_stamp'] = pd.to_datetime(dfet['time_stamp']) - timedelta(hours=6)\n",
    "\n",
    "dfet['date'] = dfet.time_stamp.apply(lambda x:  str(x)[:10])\n",
    "dfet['date'] = pd.to_datetime(dfet.date)\n",
    "\n",
    "dfet['RTs'] = [x['retweet_count'] for x in elontweets]\n",
    " \n",
    "dfet = dfet.sort_values(by=['time_stamp','full_text',\"RTs\"])\n",
    "dfet = dfet.groupby(['time_stamp','full_text']).last().reset_index()\n"
   ]
  },
  {
   "cell_type": "code",
   "execution_count": 128,
   "id": "df3c20bf",
   "metadata": {},
   "outputs": [],
   "source": [
    "dfet = dfet[dfet['time_stamp']>=dfdc['timestamp'].min()]"
   ]
  },
  {
   "cell_type": "code",
   "execution_count": 129,
   "id": "c8b0ffce",
   "metadata": {},
   "outputs": [],
   "source": [
    "dfet = dfet[dfet['time_stamp']<=dfdc['timestamp'].max()]"
   ]
  },
  {
   "cell_type": "code",
   "execution_count": 130,
   "id": "4db78204",
   "metadata": {},
   "outputs": [
    {
     "data": {
      "text/plain": [
       "0   2021-02-04 01:09:30+00:00\n",
       "1   2021-02-04 01:12:41+00:00\n",
       "2   2021-02-04 01:29:09+00:00\n",
       "3   2021-02-04 01:35:35+00:00\n",
       "4   2021-02-04 01:40:18+00:00\n",
       "Name: time_stamp, dtype: datetime64[ns, UTC]"
      ]
     },
     "execution_count": 130,
     "metadata": {},
     "output_type": "execute_result"
    }
   ],
   "source": [
    "top20_minutes = dfet.time_stamp.value_counts().head(20)\n",
    "\n",
    "minutes = dfet.time_stamp.sort_values().drop_duplicates().reset_index(drop=True)\n",
    "\n",
    "minutes.head()"
   ]
  },
  {
   "cell_type": "code",
   "execution_count": 145,
   "id": "95ed177a",
   "metadata": {},
   "outputs": [
    {
     "data": {
      "text/plain": [
       "<matplotlib.legend.Legend at 0x15138ca11f0>"
      ]
     },
     "execution_count": 145,
     "metadata": {},
     "output_type": "execute_result"
    },
    {
     "data": {
      "image/png": "[encoded data removed]",
      "text/plain": [
       "<Figure size 1440x720 with 1 Axes>"
      ]
     },
     "metadata": {
      "needs_background": "light"
     },
     "output_type": "display_data"
    }
   ],
   "source": [
    "dfet['dateoftweet'] = dfet.time_stamp.apply(lambda x: str(x)[:10])\n",
    "dfet['dateoftweet'] = pd.to_datetime(dfet.dateoftweet)\n",
    "\n",
    "minute_volumeelon = dfet.created_at.value_counts()\n",
    "minute_volumeelon\n",
    "\n",
    "minute_volumedoge = dfet.created_at.value_counts()\n",
    "minute_volumedoge\n",
    "\n",
    "dfet.dateoftweet.value_counts().sort_index().plot(label=\"Tweet Volume Doge\",figsize=(20,10),lw=3)\n",
    "plt.xticks(rotation=-45)\n",
    "\n",
    "dfet.dateoftweet.value_counts().sort_index().plot(label=\"Tweet Volume Elon\",figsize=(20,10),lw=3)\n",
    "plt.xticks(rotation=-45)\n",
    "\n",
    "plt.axvline(\"2021-02-04\",ls=\"--\",color=\"black\",label=\"Elon Tweets Doge\",lw=3)\n",
    "plt.axvline(\"2021-02-07\",ls=\"-\",color=\"black\",label=\"Elon Tweets Who Let the Doge Out\",lw=3)\n",
    "\n",
    "plt.ylabel(\"Tweet Minute Volume\")\n",
    "plt.legend(loc=\"upper left\")\n"
   ]
  },
  {
   "cell_type": "markdown",
   "id": "dfaecf99",
   "metadata": {},
   "source": [
    "#### Interpret what you see. I can observe that when Elon tweets 'Doge', that is when tweet volume for doge is at a high point. When he tweets 'who let the doge out', tweet volume is not that high. "
   ]
  },
  {
   "cell_type": "markdown",
   "id": "3b0ced49",
   "metadata": {},
   "source": [
    "### Top 10 words the day Elon tweeted 'doge'"
   ]
  },
  {
   "cell_type": "code",
   "execution_count": 98,
   "id": "2ebea8fd",
   "metadata": {},
   "outputs": [],
   "source": [
    "from sklearn.feature_extraction.text import CountVectorizer\n",
    "vct = CountVectorizer(stop_words='english')\n",
    "X = vct.fit_transform(dfet['full_text'])"
   ]
  },
  {
   "cell_type": "code",
   "execution_count": 161,
   "id": "061bb453",
   "metadata": {},
   "outputs": [],
   "source": [
    "word_counts = pd.DataFrame(X.sum(axis=0))\n",
    "word_counts.columns = vct.get_feature_names()\n",
    "word_counts = word_counts.T\n",
    "word_counts = word_counts[0].sort_values(ascending=False)"
   ]
  },
  {
   "cell_type": "code",
   "execution_count": 100,
   "id": "17bfdbc3",
   "metadata": {},
   "outputs": [
    {
     "data": {
      "text/plain": [
       "spacex            10\n",
       "erdayastronaut    10\n",
       "amp                8\n",
       "ajtourville        6\n",
       "doge               5\n",
       "josh_bickett       5\n",
       "time               4\n",
       "yes                4\n",
       "engines            3\n",
       "true               3\n",
       "Name: 0, dtype: int64"
      ]
     },
     "execution_count": 100,
     "metadata": {},
     "output_type": "execute_result"
    }
   ],
   "source": [
    "words = word_counts.drop(\"amp\")\n",
    "words = word_counts.drop(\"https\")\n",
    "\n",
    "words.head(10)"
   ]
  },
  {
   "cell_type": "markdown",
   "id": "cdad9126",
   "metadata": {},
   "source": [
    "#### The difference between the top 10 words when Elon tweeted 'doge' and the whole data is that there were more words related to space "
   ]
  },
  {
   "cell_type": "markdown",
   "id": "de25bd2b",
   "metadata": {},
   "source": [
    "# 4. Running Dogecoin tweets through sentiment analysis"
   ]
  },
  {
   "cell_type": "code",
   "execution_count": 45,
   "id": "ace0a315",
   "metadata": {},
   "outputs": [
    {
     "name": "stderr",
     "output_type": "stream",
     "text": [
      "[nltk_data] Downloading package vader_lexicon to\n",
      "[nltk_data]     C:\\Users\\Jake\\AppData\\Roaming\\nltk_data...\n",
      "[nltk_data]   Package vader_lexicon is already up-to-date!\n"
     ]
    },
    {
     "data": {
      "text/plain": [
       "True"
      ]
     },
     "execution_count": 45,
     "metadata": {},
     "output_type": "execute_result"
    }
   ],
   "source": [
    "from nltk.sentiment.vader import SentimentIntensityAnalyzer\n",
    "import nltk\n",
    "nltk.download('vader_lexicon')"
   ]
  },
  {
   "cell_type": "code",
   "execution_count": 46,
   "id": "235d8e5e",
   "metadata": {},
   "outputs": [],
   "source": [
    "sid = SentimentIntensityAnalyzer()\n",
    "pol_scores = [sid.polarity_scores(x)['compound'] for x in dfdc['text_clean']]\n",
    "dfdc['sentiment'] = pd.Series(pol_scores)\n",
    "\n",
    "sent_ts = dfdc.set_index(\"timestamp\").sort_index()"
   ]
  },
  {
   "cell_type": "markdown",
   "id": "a4a531de",
   "metadata": {},
   "source": [
    "### Top 5 saddest tweets"
   ]
  },
  {
   "cell_type": "code",
   "execution_count": 47,
   "id": "ec23d12e",
   "metadata": {},
   "outputs": [
    {
     "data": {
      "text/html": [
       "<div>\n",
       "<style scoped>\n",
       "    .dataframe tbody tr th:only-of-type {\n",
       "        vertical-align: middle;\n",
       "    }\n",
       "\n",
       "    .dataframe tbody tr th {\n",
       "        vertical-align: top;\n",
       "    }\n",
       "\n",
       "    .dataframe thead th {\n",
       "        text-align: right;\n",
       "    }\n",
       "</style>\n",
       "<table border=\"1\" class=\"dataframe\">\n",
       "  <thead>\n",
       "    <tr style=\"text-align: right;\">\n",
       "      <th></th>\n",
       "      <th>full_text</th>\n",
       "      <th>sentiment</th>\n",
       "    </tr>\n",
       "    <tr>\n",
       "      <th>timestamp</th>\n",
       "      <th></th>\n",
       "      <th></th>\n",
       "    </tr>\n",
       "  </thead>\n",
       "  <tbody>\n",
       "    <tr>\n",
       "      <th>2021-02-06 19:21:46+00:00</th>\n",
       "      <td>@elonmusk fuck yea. Do it. Sick of apples bullshit politics shit. Fuck them up and use that stack of cash the peopl… https://t.co/Tl4paIvqp4</td>\n",
       "      <td>-0.9565</td>\n",
       "    </tr>\n",
       "    <tr>\n",
       "      <th>2021-02-05 14:26:23+00:00</th>\n",
       "      <td>If you sold #dogecoin early, you’re a sellout. Don’t be blaming Elon over your shitty ass, impatient ass decisions.… https://t.co/Bohfo5FQGD</td>\n",
       "      <td>-0.9432</td>\n",
       "    </tr>\n",
       "    <tr>\n",
       "      <th>2021-02-05 20:37:15+00:00</th>\n",
       "      <td>think about this. the ppl with most bitcoin are rapists and serial killing serial raping pedophiles. bitcoin ONLY g… https://t.co/Sp5vAd1YNg</td>\n",
       "      <td>-0.9409</td>\n",
       "    </tr>\n",
       "    <tr>\n",
       "      <th>2021-02-04 13:23:14+00:00</th>\n",
       "      <td>RT @isupportcoolshi: Yooo everyone blaming Elon for the dogecoin drop is dumb asf it’s the stupid ass people who think 50-100 dollars is wo…</td>\n",
       "      <td>-0.9382</td>\n",
       "    </tr>\n",
       "    <tr>\n",
       "      <th>2021-02-05 17:47:42+00:00</th>\n",
       "      <td>my ex girlfriend cheated on me so i pawned her macbook and bought a shit ton of $doge ill see u in hell becca!… https://t.co/vpH0fVfD2t</td>\n",
       "      <td>-0.9360</td>\n",
       "    </tr>\n",
       "  </tbody>\n",
       "</table>\n",
       "</div>"
      ],
      "text/plain": [
       "                                                                                                                                                              full_text  \\\n",
       "timestamp                                                                                                                                                                 \n",
       "2021-02-06 19:21:46+00:00  @elonmusk fuck yea. Do it. Sick of apples bullshit politics shit. Fuck them up and use that stack of cash the peopl… https://t.co/Tl4paIvqp4   \n",
       "2021-02-05 14:26:23+00:00  If you sold #dogecoin early, you’re a sellout. Don’t be blaming Elon over your shitty ass, impatient ass decisions.… https://t.co/Bohfo5FQGD   \n",
       "2021-02-05 20:37:15+00:00  think about this. the ppl with most bitcoin are rapists and serial killing serial raping pedophiles. bitcoin ONLY g… https://t.co/Sp5vAd1YNg   \n",
       "2021-02-04 13:23:14+00:00  RT @isupportcoolshi: Yooo everyone blaming Elon for the dogecoin drop is dumb asf it’s the stupid ass people who think 50-100 dollars is wo…   \n",
       "2021-02-05 17:47:42+00:00       my ex girlfriend cheated on me so i pawned her macbook and bought a shit ton of $doge ill see u in hell becca!… https://t.co/vpH0fVfD2t   \n",
       "\n",
       "                           sentiment  \n",
       "timestamp                             \n",
       "2021-02-06 19:21:46+00:00    -0.9565  \n",
       "2021-02-05 14:26:23+00:00    -0.9432  \n",
       "2021-02-05 20:37:15+00:00    -0.9409  \n",
       "2021-02-04 13:23:14+00:00    -0.9382  \n",
       "2021-02-05 17:47:42+00:00    -0.9360  "
      ]
     },
     "execution_count": 47,
     "metadata": {},
     "output_type": "execute_result"
    }
   ],
   "source": [
    "dfdc.set_index(\"timestamp\").sort_values(\"sentiment\")[['full_text','sentiment']].head()"
   ]
  },
  {
   "cell_type": "markdown",
   "id": "46f3c9b4",
   "metadata": {},
   "source": [
    "### Top 5 happiest tweets"
   ]
  },
  {
   "cell_type": "code",
   "execution_count": 48,
   "id": "27a6d3c9",
   "metadata": {},
   "outputs": [
    {
     "data": {
      "text/html": [
       "<div>\n",
       "<style scoped>\n",
       "    .dataframe tbody tr th:only-of-type {\n",
       "        vertical-align: middle;\n",
       "    }\n",
       "\n",
       "    .dataframe tbody tr th {\n",
       "        vertical-align: top;\n",
       "    }\n",
       "\n",
       "    .dataframe thead th {\n",
       "        text-align: right;\n",
       "    }\n",
       "</style>\n",
       "<table border=\"1\" class=\"dataframe\">\n",
       "  <thead>\n",
       "    <tr style=\"text-align: right;\">\n",
       "      <th></th>\n",
       "      <th>full_text</th>\n",
       "      <th>sentiment</th>\n",
       "    </tr>\n",
       "    <tr>\n",
       "      <th>timestamp</th>\n",
       "      <th></th>\n",
       "      <th></th>\n",
       "    </tr>\n",
       "  </thead>\n",
       "  <tbody>\n",
       "    <tr>\n",
       "      <th>2021-02-08 01:34:03+00:00</th>\n",
       "      <td>\"But the fruit of the Spirit is love, joy, peace, patience, kindness, goodness, faithfulness, gentleness, and self-… https://t.co/9bFj9AYJNE</td>\n",
       "      <td>0.9857</td>\n",
       "    </tr>\n",
       "    <tr>\n",
       "      <th>2021-02-08 01:35:58+00:00</th>\n",
       "      <td>\"But the fruit of the Spirit is love, joy, peace, patience, kindness, goodness, faithfulness, gentleness, and self-… https://t.co/fsjeDAuPzb</td>\n",
       "      <td>0.9857</td>\n",
       "    </tr>\n",
       "    <tr>\n",
       "      <th>2021-02-08 01:34:03+00:00</th>\n",
       "      <td>\"But the fruit of the Spirit is love, joy, peace, patience, kindness, goodness, faithfulness, gentleness, and self-… https://t.co/9bFj9AYJNE</td>\n",
       "      <td>0.9857</td>\n",
       "    </tr>\n",
       "    <tr>\n",
       "      <th>2021-02-04 21:29:17+00:00</th>\n",
       "      <td>On the bright side atleast my great great great great grandchildren will be taken care of at this pace. \\n#Dogecoin #pumpmyballz</td>\n",
       "      <td>0.9735</td>\n",
       "    </tr>\n",
       "    <tr>\n",
       "      <th>2021-02-05 04:20:45+00:00</th>\n",
       "      <td>RT @eh1992m: Best #Cryptocurrencies #Dice in the world👌🤑\\nyou can easily earn free crypto like \\n#Ethereum #DOGE #BTC #LTC\\nbig free reward fo…</td>\n",
       "      <td>0.9607</td>\n",
       "    </tr>\n",
       "  </tbody>\n",
       "</table>\n",
       "</div>"
      ],
      "text/plain": [
       "                                                                                                                                                                 full_text  \\\n",
       "timestamp                                                                                                                                                                    \n",
       "2021-02-08 01:34:03+00:00     \"But the fruit of the Spirit is love, joy, peace, patience, kindness, goodness, faithfulness, gentleness, and self-… https://t.co/9bFj9AYJNE   \n",
       "2021-02-08 01:35:58+00:00     \"But the fruit of the Spirit is love, joy, peace, patience, kindness, goodness, faithfulness, gentleness, and self-… https://t.co/fsjeDAuPzb   \n",
       "2021-02-08 01:34:03+00:00     \"But the fruit of the Spirit is love, joy, peace, patience, kindness, goodness, faithfulness, gentleness, and self-… https://t.co/9bFj9AYJNE   \n",
       "2021-02-04 21:29:17+00:00                 On the bright side atleast my great great great great grandchildren will be taken care of at this pace. \\n#Dogecoin #pumpmyballz   \n",
       "2021-02-05 04:20:45+00:00  RT @eh1992m: Best #Cryptocurrencies #Dice in the world👌🤑\\nyou can easily earn free crypto like \\n#Ethereum #DOGE #BTC #LTC\\nbig free reward fo…   \n",
       "\n",
       "                           sentiment  \n",
       "timestamp                             \n",
       "2021-02-08 01:34:03+00:00     0.9857  \n",
       "2021-02-08 01:35:58+00:00     0.9857  \n",
       "2021-02-08 01:34:03+00:00     0.9857  \n",
       "2021-02-04 21:29:17+00:00     0.9735  \n",
       "2021-02-05 04:20:45+00:00     0.9607  "
      ]
     },
     "execution_count": 48,
     "metadata": {},
     "output_type": "execute_result"
    }
   ],
   "source": [
    "dfdc.set_index(\"timestamp\").sort_values(\"sentiment\",ascending=False)[['full_text','sentiment']].head()"
   ]
  },
  {
   "cell_type": "markdown",
   "id": "1e3b7e51",
   "metadata": {},
   "source": [
    "### Graph of sentiment over time with tweet volume"
   ]
  },
  {
   "cell_type": "markdown",
   "id": "04ea492e",
   "metadata": {},
   "source": [
    "#### Elon tweets 'doge' on 2/4/2021"
   ]
  },
  {
   "cell_type": "code",
   "execution_count": 49,
   "id": "99f82de3",
   "metadata": {},
   "outputs": [],
   "source": [
    "dfdc['date'] = dfdc.timestamp.apply(lambda x: str(x)[:10])\n",
    "dfdc['date'] = pd.to_datetime(dfdc.date)"
   ]
  },
  {
   "cell_type": "code",
   "execution_count": 50,
   "id": "c3cf35c5",
   "metadata": {},
   "outputs": [
    {
     "data": {
      "text/plain": [
       "<matplotlib.legend.Legend at 0x1513876d1f0>"
      ]
     },
     "execution_count": 50,
     "metadata": {},
     "output_type": "execute_result"
    },
    {
     "data": {
      "image/png": "[encoded data removed]",
      "text/plain": [
       "<Figure size 1440x720 with 1 Axes>"
      ]
     },
     "metadata": {
      "needs_background": "light"
     },
     "output_type": "display_data"
    }
   ],
   "source": [
    "f,a = plt.subplots(figsize = (20,10))\n",
    "sent_ts['sentiment'].plot(alpha = (.1),ax = a,color = \"black\",figsize=(20,10),lw=3,label=\"Tweet Volume\")\n",
    "dfdc.groupby(\"dateoftweet\")['sentiment'].mean().plot(ax = a,label = \"Daily Average\", lw = 3)\n",
    "\n",
    "plt.axvline(\"2021-02-04\",color=\"black\",ls=\"--\",label=\"Elon tweets 'doge'\")\n",
    "\n",
    "dfdc.date.value_counts().sort_index().plot(label=\"Number of Tweets\",figsize=(20,10),lw=3)\n",
    "plt.xticks(rotation=-45)\n",
    "\n",
    "plt.ylabel(\"Sentiment Score, Daily Average\")\n",
    "plt.xlabel(\"Date of Tweet\")\n",
    "\n",
    "plt.ylim(ymin=-1,ymax=1)\n",
    "\n",
    "plt.legend()"
   ]
  },
  {
   "cell_type": "markdown",
   "id": "088e072a",
   "metadata": {},
   "source": [
    "# 5. Dogecoin prices and tweets"
   ]
  },
  {
   "cell_type": "markdown",
   "id": "f366e8c3",
   "metadata": {},
   "source": [
    "### Reading dogecoin price at 2 minute level and extract the volume, the closing price, and the timestamp"
   ]
  },
  {
   "cell_type": "code",
   "execution_count": 140,
   "id": "da02060c",
   "metadata": {},
   "outputs": [],
   "source": [
    "data = pd.read_csv(\"/Users/Jake/Downloads/doge_coin_by_2min.csv\")\n",
    "dc_price = data[['Volume', 'Close', 'Datetime']]"
   ]
  },
  {
   "cell_type": "code",
   "execution_count": 146,
   "id": "6f2438ae",
   "metadata": {},
   "outputs": [
    {
     "data": {
      "text/plain": [
       "<matplotlib.lines.Line2D at 0x15138cc69a0>"
      ]
     },
     "execution_count": 146,
     "metadata": {},
     "output_type": "execute_result"
    },
    {
     "data": {
      "image/png": "[encoded data removed]",
      "text/plain": [
       "<Figure size 432x288 with 1 Axes>"
      ]
     },
     "metadata": {
      "needs_background": "light"
     },
     "output_type": "display_data"
    }
   ],
   "source": [
    "dc_price.plot(x ='Datetime', y='Close', kind = 'line')\n",
    "plt.axvline(\"2021-02-04\", color=\"black\", ls=\"--\",label = \"Elon Tweets 'Doge'\")"
   ]
  },
  {
   "cell_type": "code",
   "execution_count": 147,
   "id": "603df4f3",
   "metadata": {},
   "outputs": [
    {
     "data": {
      "text/plain": [
       "<matplotlib.lines.Line2D at 0x1513253e2b0>"
      ]
     },
     "execution_count": 147,
     "metadata": {},
     "output_type": "execute_result"
    },
    {
     "data": {
      "image/png": "[encoded data removed]",
      "text/plain": [
       "<Figure size 432x288 with 1 Axes>"
      ]
     },
     "metadata": {
      "needs_background": "light"
     },
     "output_type": "display_data"
    }
   ],
   "source": [
    "dc_price.plot(x ='Datetime', y='Volume', kind = 'line')\n",
    "plt.axvline(\"2021-02-04\", color=\"black\", ls=\"--\",label = \"Elon Tweets 'Doge'\")"
   ]
  },
  {
   "cell_type": "markdown",
   "id": "5942b383",
   "metadata": {},
   "source": [
    "#### From the two graphs, one being the closing price and the second being elon's tweets, we see that on the day elon tweets the word 'doge' (dotted line), there is a minimal spike in the closing price, but then sort of flattens out.   "
   ]
  },
  {
   "cell_type": "markdown",
   "id": "2c718e51",
   "metadata": {},
   "source": [
    "### The Doge Coin closing price versus volume during the sample period."
   ]
  },
  {
   "cell_type": "code",
   "execution_count": 153,
   "id": "67a57469",
   "metadata": {},
   "outputs": [
    {
     "ename": "SyntaxError",
     "evalue": "positional argument follows keyword argument (Temp/ipykernel_12928/3899944148.py, line 9)",
     "output_type": "error",
     "traceback": [
      "\u001b[1;36m  File \u001b[1;32m\"C:\\Users\\Jake\\AppData\\Local\\Temp/ipykernel_12928/3899944148.py\"\u001b[1;36m, line \u001b[1;32m9\u001b[0m\n\u001b[1;33m    dc.date.value_counts().sort_index().plot(label=\"Number of Tweets\",figsize=(20,10),lw=3)\u001b[0m\n\u001b[1;37m    ^\u001b[0m\n\u001b[1;31mSyntaxError\u001b[0m\u001b[1;31m:\u001b[0m positional argument follows keyword argument\n"
     ]
    }
   ],
   "source": [
    "closing_price = dc_price.set_index(\"Close\").sort_index()\n",
    "\n",
    "f,a = plt.subplots(figsize = (20,10))\n",
    "closing_price['close'].plot(alpha = (.75),ax = a,color = \"black\",figsize = (20,10),lw=3,label=\"Closing Price\")\n",
    "\n",
    "dc_price.volume.value_counts().sort_index().plot(label=\"Volume\",figsize(20,10),lw=3\n",
    "\n",
    "\n",
    "dc.date.value_counts().sort_index().plot(label=\"Number of Tweets\",figsize=(20,10),lw=3)\n",
    "plt.xticks(rotation=-45)\n",
    "\n",
    "plt.ylabel(\"Volume, Price($)\")\n",
    "plt.xlabel(\"Date\")\n",
    "\n",
    "plt.ylim(ymin=-5,ymax=5)\n",
    "\n",
    "plt.legend(loc=\"upper left\")\n",
    "dc_price.groupby(\"dateoftweet\")['sentiment'].mean().plot(ax = a,label = \"Daily Average\",lw=3)\n",
    "plt.axvline(\"2021-02-04\",color=\"black\",ls=\"--\",label=\"Elon tweets 'doge'\")"
   ]
  },
  {
   "cell_type": "markdown",
   "id": "e64b58e6",
   "metadata": {},
   "source": [
    "#### Elon did move the price of doge coin, and it was permanent. The price moved up when he tweeted but then declined for a couple days. However, it ended up rebounding and actually increasing past the price when Elon tweeted. Therefore, his tweets did end up making the doge coin price increase permanent. "
   ]
  },
  {
   "cell_type": "code",
   "execution_count": 148,
   "id": "716a0053",
   "metadata": {},
   "outputs": [
    {
     "data": {
      "text/plain": [
       "Text(0.5, 1.0, 'My Submission')"
      ]
     },
     "execution_count": 148,
     "metadata": {},
     "output_type": "execute_result"
    },
    {
     "data": {
      "image/png": "[encoded data removed]",
      "text/plain": [
       "<Figure size 432x288 with 1 Axes>"
      ]
     },
     "metadata": {
      "needs_background": "light"
     },
     "output_type": "display_data"
    }
   ],
   "source": [
    "plt.title(\"My Submission\")"
   ]
  },
  {
   "cell_type": "markdown",
   "id": "8b32baec",
   "metadata": {},
   "source": [
    "### Correlation between the Dog Coin Tweet sentiment and the Doge Coin price"
   ]
  },
  {
   "cell_type": "code",
   "execution_count": 160,
   "id": "15b244ac",
   "metadata": {},
   "outputs": [
    {
     "name": "stderr",
     "output_type": "stream",
     "text": [
      "C:\\Users\\Jake\\anaconda3\\lib\\site-packages\\pandas\\core\\indexing.py:723: SettingWithCopyWarning: \n",
      "A value is trying to be set on a copy of a slice from a DataFrame\n",
      "\n",
      "See the caveats in the documentation: https://pandas.pydata.org/pandas-docs/stable/user_guide/indexing.html#returning-a-view-versus-a-copy\n",
      "  iloc._setitem_with_indexer(indexer, value, self.name)\n"
     ]
    },
    {
     "data": {
      "text/html": [
       "<div>\n",
       "<style scoped>\n",
       "    .dataframe tbody tr th:only-of-type {\n",
       "        vertical-align: middle;\n",
       "    }\n",
       "\n",
       "    .dataframe tbody tr th {\n",
       "        vertical-align: top;\n",
       "    }\n",
       "\n",
       "    .dataframe thead th {\n",
       "        text-align: right;\n",
       "    }\n",
       "</style>\n",
       "<table border=\"1\" class=\"dataframe\">\n",
       "  <thead>\n",
       "    <tr style=\"text-align: right;\">\n",
       "      <th></th>\n",
       "      <th>Volume</th>\n",
       "      <th>Close</th>\n",
       "    </tr>\n",
       "  </thead>\n",
       "  <tbody>\n",
       "  </tbody>\n",
       "</table>\n",
       "</div>"
      ],
      "text/plain": [
       "Empty DataFrame\n",
       "Columns: [Volume, Close]\n",
       "Index: []"
      ]
     },
     "execution_count": 160,
     "metadata": {},
     "output_type": "execute_result"
    }
   ],
   "source": [
    "dc_price.loc['sentiment'] = pd.Series(pol_scores)\n",
    "dc_price.corr().iloc[:-3,-3:] "
   ]
  },
  {
   "cell_type": "markdown",
   "id": "d583448f",
   "metadata": {},
   "source": [
    "#### The data you would need in addition to these data sources is the sentiment of tweets about doge coin through this time frame."
   ]
  },
  {
   "cell_type": "markdown",
   "id": "0d80df0a",
   "metadata": {},
   "source": [
    "#### In order to read in the data and manipulate it, I would have to make a seperate dataframe of the sentiments of tweets about doge coin and its prices through this time frame. "
   ]
  },
  {
   "cell_type": "markdown",
   "id": "37577f88",
   "metadata": {},
   "source": [
    "#### The analysis necessary for this type of calculation would be the sentiment values of doge coin and its prices. Are people happy and positive that the price is going up? Are they upset that they did not buy in time and the prices are going up? "
   ]
  }
 ],
 "metadata": {
  "kernelspec": {
   "display_name": "Python 3 (ipykernel)",
   "language": "python",
   "name": "python3"
  },
  "language_info": {
   "codemirror_mode": {
    "name": "ipython",
    "version": 3
   },
   "file_extension": ".py",
   "mimetype": "text/x-python",
   "name": "python",
   "nbconvert_exporter": "python",
   "pygments_lexer": "ipython3",
   "version": "3.9.7"
  }
 },
 "nbformat": 4,
 "nbformat_minor": 5
}
